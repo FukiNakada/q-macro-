{
  "nbformat": 4,
  "nbformat_minor": 0,
  "metadata": {
    "colab": {
      "provenance": [],
      "authorship_tag": "ABX9TyNeb/WrIiTHnUzpeHYQAZtH",
      "include_colab_link": true
    },
    "kernelspec": {
      "name": "python3",
      "display_name": "Python 3"
    },
    "language_info": {
      "name": "python"
    }
  },
  "cells": [
    {
      "cell_type": "markdown",
      "metadata": {
        "id": "view-in-github",
        "colab_type": "text"
      },
      "source": [
        "<a href=\"https://colab.research.google.com/github/FukiNakada/q-macro-/blob/main/growthaccounting2.ipynb\" target=\"_parent\"><img src=\"https://colab.research.google.com/assets/colab-badge.svg\" alt=\"Open In Colab\"/></a>"
      ]
    },
    {
      "cell_type": "code",
      "execution_count": 6,
      "metadata": {
        "colab": {
          "base_uri": "https://localhost:8080/",
          "height": 193
        },
        "id": "Hnw0Sa8gNg8M",
        "outputId": "62a86b85-1c18-4128-e9bc-3c389a466191"
      },
      "outputs": [
        {
          "output_type": "error",
          "ename": "SyntaxError",
          "evalue": "invalid character '‹' (U+2039) (<ipython-input-6-b52d4983dd08>, line 15)",
          "traceback": [
            "\u001b[0;36m  File \u001b[0;32m\"<ipython-input-6-b52d4983dd08>\"\u001b[0;36m, line \u001b[0;32m15\u001b[0m\n\u001b[0;31m    data = pwt1001.loc [pwt1001[' country' ].isin(countries)][['year', 'countrycode', 'country', 'rgdpna', 'rnna', 'emp', 'avh' ]].loc[(pwt1001.loc [pwt1001[' country' ].isin(countries)][['year', 'countrycode', 'country', 'rgdpna', 'rnna', 'emp', 'avh' ]]['year'] >= 1975) & (pwt1001.loc [pwt1001[' country' ].isin(countries)][['year', 'countrycode', 'country', 'rgdpna', 'rnna', 'emp', 'avh' ]]['year'] ‹= 2019)].dropna ()\u001b[0m\n\u001b[0m                                                                                                                                                                                                                                                                                                                                                                                                                    ^\u001b[0m\n\u001b[0;31mSyntaxError\u001b[0m\u001b[0;31m:\u001b[0m invalid character '‹' (U+2039)\n"
          ]
        }
      ],
      "source": [
        "import pandas as pd\n",
        "def calculate_average_growth_rate (data, start_year, end_year, column):\n",
        "    start_value = data.loc [data['year'] == start_year, column].iloc[0]\n",
        "    end_value = data. loc [data['year'] == end_year, column].iloc[0]\n",
        "    years = end_year - start_year\n",
        "    avg_growth_rate = (end_value / start_value) ** (1 / years) - 1\n",
        "    return avg_growth_rate\n",
        "\n",
        "    # Load data\n",
        "    ur1 = 'https://dataverse.n1/api/access/datafile/354098'\n",
        "    pwt1001 = pd.read_stata(url)\n",
        "\n",
        "    # Filter and select relevant columns\n",
        "    countries = ['Australia', 'Austria', 'Belgium', 'Canada', 'Denmark', 'Finland', 'France', 'Germany', 'Greece', 'Iceland']\n",
        "    data = pwt1001.loc [pwt1001[' country' ].isin(countries)][['year', 'countrycode', 'country', 'rgdpna', 'rnna', 'emp', 'avh' ]].loc[(pwt1001.loc [pwt1001[' country' ].isin(countries)][['year', 'countrycode', 'country', 'rgdpna', 'rnna', 'emp', 'avh' ]]['year'] >= 1975) & (pwt1001.loc [pwt1001[' country' ].isin(countries)][['year', 'countrycode', 'country', 'rgdpna', 'rnna', 'emp', 'avh' ]]['year'] ‹= 2019)].dropna ()\n",
        "\n",
        "    # Calculate additional variables\n",
        "    pwt1001.loc [pwt1001[' country' ].isin(countries)][['year', 'countrycode', 'country', 'rgdpna', 'rnna', 'emp', 'avh' ]]['alpha']= 1 - pwt1001.loc [pwt1001[' country' ].isin(countries)][['year', 'countrycode', 'country', 'rgdpna', 'rnna', 'emp', 'avh' ]]['labsh']\n",
        "    pwt1001.loc [pwt1001[' country' ].isin(countries)][['year', 'countrycode', 'country', 'rgdpna', 'rnna', 'emp', 'avh' ]]['gdp_per_worker'] = pwt1001.loc [pwt1001[' country' ].isin(countries)][['year', 'countrycode', 'country', 'rgdpna', 'rnna', 'emp', 'avh' ]]['rgdpna'] / pwt1001.loc [pwt1001[' country' ].isin(countries)][['year', 'countrycode', 'country', 'rgdpna', 'rnna', 'emp', 'avh' ]]['emp']\n",
        "    pwt1001.loc [pwt1001[' country' ].isin(countries)][['year', 'countrycode', 'country', 'rgdpna', 'rnna', 'emp', 'avh' ]]['capital_per_worker'] = pwt1001.loc [pwt1001[' country' ].isin(countries)][['year', 'countrycode', 'country', 'rgdpna', 'rnna', 'emp', 'avh' ]]['rnna'] / pwt1001.loc [pwt1001[' country' ].isin(countries)][['year', 'countrycode', 'country', 'rgdpna', 'rnna', 'emp', 'avh' ]]['emp']\n",
        "    pwt1001.loc [pwt1001[' country' ].isin(countries)][['year', 'countrycode', 'country', 'rgdpna', 'rnna', 'emp', 'avh' ]]['human_capital_per_worker'] = pwt1001.loc [pwt1001[' country' ].isin(countries)][['year', 'countrycode', 'country', 'rgdpna', 'rnna', 'emp', 'avh' ]]['hc']\n",
        "    pwt1001.loc [pwt1001[' country' ].isin(countries)][['year', 'countrycode', 'country', 'rgdpna', 'rnna', 'emp', 'avh' ]]['hours_per_worker'] = pwt1001.loc [pwt1001[' country' ].isin(countries)][['year', 'countrycode', 'country', 'rgdpna', 'rnna', 'emp', 'avh' ]]['avh' ]"
      ]
    }
  ]
}